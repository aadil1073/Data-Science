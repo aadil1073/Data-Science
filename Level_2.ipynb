{
  "nbformat": 4,
  "nbformat_minor": 0,
  "metadata": {
    "colab": {
      "provenance": [],
      "include_colab_link": true
    },
    "kernelspec": {
      "name": "python3",
      "display_name": "Python 3"
    },
    "language_info": {
      "name": "python"
    }
  },
  "cells": [
    {
      "cell_type": "markdown",
      "metadata": {
        "id": "view-in-github",
        "colab_type": "text"
      },
      "source": [
        "<a href=\"https://colab.research.google.com/github/aadil1073/Data-Science/blob/main/Level_2.ipynb\" target=\"_parent\"><img src=\"https://colab.research.google.com/assets/colab-badge.svg\" alt=\"Open In Colab\"/></a>"
      ]
    },
    {
      "cell_type": "markdown",
      "source": [
        "**LEVEL 2 TASK 1: Table Booking and Online Delivery**"
      ],
      "metadata": {
        "id": "TeTYz6XvANhY"
      }
    },
    {
      "cell_type": "code",
      "execution_count": null,
      "metadata": {
        "id": "xGfKpQIqAFiN"
      },
      "outputs": [],
      "source": [
        "# importing Libraries\n",
        "import pandas as pd\n",
        "import matplotlib.pyplot as plt"
      ]
    },
    {
      "cell_type": "code",
      "source": [
        "df = pd.read_csv('/content/Dataset .csv')"
      ],
      "metadata": {
        "id": "Iusc4XdhA68-"
      },
      "execution_count": null,
      "outputs": []
    },
    {
      "cell_type": "code",
      "source": [
        "# Percentage of restaurants offering table booking\n",
        "table_booking_percentage = (df['Has Table booking'].value_counts(normalize=True) * 100).round(2)\n",
        "print(\"Percentage of Restaurants Offering Table Booking:\")\n",
        "print(table_booking_percentage)\n",
        "\n",
        "# Percentage of restaurants offering online delivery\n",
        "online_delivery_percentage = (df['Has Online delivery'].value_counts(normalize=True) * 100).round(2)\n",
        "print(\"\\nPercentage of Restaurants Offering Online Delivery:\")\n",
        "print(online_delivery_percentage)\n"
      ],
      "metadata": {
        "colab": {
          "base_uri": "https://localhost:8080/"
        },
        "id": "QD1rKv6EBPxr",
        "outputId": "a7bf85dc-623e-4f7b-9f41-8059607f6f92"
      },
      "execution_count": null,
      "outputs": [
        {
          "output_type": "stream",
          "name": "stdout",
          "text": [
            "Percentage of Restaurants Offering Table Booking:\n",
            "No     87.88\n",
            "Yes    12.12\n",
            "Name: Has Table booking, dtype: float64\n",
            "\n",
            "Percentage of Restaurants Offering Online Delivery:\n",
            "No     74.34\n",
            "Yes    25.66\n",
            "Name: Has Online delivery, dtype: float64\n"
          ]
        }
      ]
    },
    {
      "cell_type": "code",
      "source": [
        "# Average rating of restaurants with table booking\n",
        "avg_rating_with_table_booking = df[df['Has Table booking'] == 'Yes']['Aggregate rating'].mean()\n",
        "print(\"\\nAverage Rating of Restaurants with Table Booking:\", avg_rating_with_table_booking)\n",
        "\n",
        "# Average rating of restaurants without table booking\n",
        "avg_rating_without_table_booking = df[df['Has Table booking'] == 'No']['Aggregate rating'].mean()\n",
        "print(\"Average Rating of Restaurants without Table Booking:\", avg_rating_without_table_booking)\n"
      ],
      "metadata": {
        "colab": {
          "base_uri": "https://localhost:8080/"
        },
        "id": "IvbuC5yhBcYq",
        "outputId": "1b4dc19e-de9d-4764-e228-cf4e5f404d93"
      },
      "execution_count": null,
      "outputs": [
        {
          "output_type": "stream",
          "name": "stdout",
          "text": [
            "\n",
            "Average Rating of Restaurants with Table Booking: 3.4419689119170984\n",
            "Average Rating of Restaurants without Table Booking: 2.559358989634219\n"
          ]
        }
      ]
    },
    {
      "cell_type": "code",
      "source": [
        "# Availability of online delivery\n",
        "online_delivery_by_price_range = df.groupby('Price range')['Has Online delivery'].value_counts(normalize=True).unstack() * 100\n",
        "print(\"\\nAvailability of Online Delivery Among Restaurants with Different Price Ranges:\")\n",
        "print(online_delivery_by_price_range)\n"
      ],
      "metadata": {
        "colab": {
          "base_uri": "https://localhost:8080/"
        },
        "id": "JeyZONs8BuAF",
        "outputId": "b613a61d-0641-45ab-8b26-4568d1e85f0b"
      },
      "execution_count": null,
      "outputs": [
        {
          "output_type": "stream",
          "name": "stdout",
          "text": [
            "\n",
            "Availability of Online Delivery Among Restaurants with Different Price Ranges:\n",
            "Has Online delivery         No        Yes\n",
            "Price range                              \n",
            "1                    84.225923  15.774077\n",
            "2                    58.689367  41.310633\n",
            "3                    70.809659  29.190341\n",
            "4                    90.955631   9.044369\n"
          ]
        }
      ]
    },
    {
      "cell_type": "markdown",
      "source": [
        "**LEVEL 2 TASK 2: Price Range Analysis**"
      ],
      "metadata": {
        "id": "nITNEuZhCECz"
      }
    },
    {
      "cell_type": "code",
      "source": [
        "# Common price range of all restaurants\n",
        "most_common_price_range = df['Price range'].mode()[0]\n",
        "print(\"Most Common Price Range among All Restaurants:\", most_common_price_range)\n"
      ],
      "metadata": {
        "colab": {
          "base_uri": "https://localhost:8080/"
        },
        "id": "r70nNle6CQg9",
        "outputId": "6d891cc3-3120-418d-c90f-013933475360"
      },
      "execution_count": null,
      "outputs": [
        {
          "output_type": "stream",
          "name": "stdout",
          "text": [
            "Most Common Price Range among All Restaurants: 1\n"
          ]
        }
      ]
    },
    {
      "cell_type": "code",
      "source": [
        "# Calculating the average rating for each price range\n",
        "average_rating_by_price_range = df.groupby('Price range')['Aggregate rating'].mean()\n",
        "print(\"\\nAverage Rating for Each Price Range:\")\n",
        "print(average_rating_by_price_range)\n"
      ],
      "metadata": {
        "colab": {
          "base_uri": "https://localhost:8080/"
        },
        "id": "ZCqj-A3SCiTP",
        "outputId": "00103fff-e40c-4e6a-85e6-e718072a816f"
      },
      "execution_count": null,
      "outputs": [
        {
          "output_type": "stream",
          "name": "stdout",
          "text": [
            "\n",
            "Average Rating for Each Price Range:\n",
            "Price range\n",
            "1    1.999887\n",
            "2    2.941054\n",
            "3    3.683381\n",
            "4    3.817918\n",
            "Name: Aggregate rating, dtype: float64\n"
          ]
        }
      ]
    },
    {
      "cell_type": "code",
      "source": [
        "# Calculating the average rating for each price range\n",
        "average_rating_by_price_range = df.groupby('Price range')['Aggregate rating'].mean()\n",
        "\n",
        "# Finding the price range with the highest average rating\n",
        "highest_avg_rating_price_range = average_rating_by_price_range.idxmax()\n",
        "\n",
        "# Finding the color associated with the highest average rating price range\n",
        "color_of_highest_avg_rating = df[df['Price range'] == highest_avg_rating_price_range]['Rating color'].iloc[0]\n",
        "\n",
        "print(\"\\nColor Representing the Highest Average Rating among Different Price Ranges:\", color_of_highest_avg_rating)\n"
      ],
      "metadata": {
        "colab": {
          "base_uri": "https://localhost:8080/"
        },
        "id": "JAE3P0wRCqDr",
        "outputId": "01c94c5d-959b-4209-e0bc-0da993adc82f"
      },
      "execution_count": null,
      "outputs": [
        {
          "output_type": "stream",
          "name": "stdout",
          "text": [
            "\n",
            "Color Representing the Highest Average Rating among Different Price Ranges: Green\n"
          ]
        }
      ]
    },
    {
      "cell_type": "markdown",
      "source": [
        "**LEVEL 2 TASK 3: Feature Engineering**"
      ],
      "metadata": {
        "id": "pGyySAYJQQhd"
      }
    },
    {
      "cell_type": "code",
      "source": [
        "# Calculating the length of the restaurant name\n",
        "df['Restaurant Name Length'] = df['Restaurant Name'].apply(len)\n",
        "\n",
        "# Calculating the length of the address\n",
        "df['Address Length'] = df['Address'].apply(len)\n",
        "\n",
        "# Display the modified DataFrame\n",
        "print(df.head())\n"
      ],
      "metadata": {
        "colab": {
          "base_uri": "https://localhost:8080/"
        },
        "id": "7OMhwKtjCxSf",
        "outputId": "7542ac55-c37b-4bc0-d2a6-2d1c709948d2"
      },
      "execution_count": null,
      "outputs": [
        {
          "output_type": "stream",
          "name": "stdout",
          "text": [
            "   Restaurant ID         Restaurant Name  Country Code              City  \\\n",
            "0        6317637        Le Petit Souffle           162       Makati City   \n",
            "1        6304287        Izakaya Kikufuji           162       Makati City   \n",
            "2        6300002  Heat - Edsa Shangri-La           162  Mandaluyong City   \n",
            "3        6318506                    Ooma           162  Mandaluyong City   \n",
            "4        6314302             Sambo Kojin           162  Mandaluyong City   \n",
            "\n",
            "                                             Address  \\\n",
            "0  Third Floor, Century City Mall, Kalayaan Avenu...   \n",
            "1  Little Tokyo, 2277 Chino Roces Avenue, Legaspi...   \n",
            "2  Edsa Shangri-La, 1 Garden Way, Ortigas, Mandal...   \n",
            "3  Third Floor, Mega Fashion Hall, SM Megamall, O...   \n",
            "4  Third Floor, Mega Atrium, SM Megamall, Ortigas...   \n",
            "\n",
            "                                     Locality  \\\n",
            "0   Century City Mall, Poblacion, Makati City   \n",
            "1  Little Tokyo, Legaspi Village, Makati City   \n",
            "2  Edsa Shangri-La, Ortigas, Mandaluyong City   \n",
            "3      SM Megamall, Ortigas, Mandaluyong City   \n",
            "4      SM Megamall, Ortigas, Mandaluyong City   \n",
            "\n",
            "                                    Locality Verbose   Longitude   Latitude  \\\n",
            "0  Century City Mall, Poblacion, Makati City, Mak...  121.027535  14.565443   \n",
            "1  Little Tokyo, Legaspi Village, Makati City, Ma...  121.014101  14.553708   \n",
            "2  Edsa Shangri-La, Ortigas, Mandaluyong City, Ma...  121.056831  14.581404   \n",
            "3  SM Megamall, Ortigas, Mandaluyong City, Mandal...  121.056475  14.585318   \n",
            "4  SM Megamall, Ortigas, Mandaluyong City, Mandal...  121.057508  14.584450   \n",
            "\n",
            "                           Cuisines  ...  Has Online delivery  \\\n",
            "0        French, Japanese, Desserts  ...                   No   \n",
            "1                          Japanese  ...                   No   \n",
            "2  Seafood, Asian, Filipino, Indian  ...                   No   \n",
            "3                   Japanese, Sushi  ...                   No   \n",
            "4                  Japanese, Korean  ...                   No   \n",
            "\n",
            "  Is delivering now Switch to order menu Price range Aggregate rating  \\\n",
            "0                No                   No           3              4.8   \n",
            "1                No                   No           3              4.5   \n",
            "2                No                   No           4              4.4   \n",
            "3                No                   No           4              4.9   \n",
            "4                No                   No           4              4.8   \n",
            "\n",
            "  Rating color  Rating text  Votes Restaurant Name Length Address Length  \n",
            "0   Dark Green    Excellent    314                     16             71  \n",
            "1   Dark Green    Excellent    591                     16             67  \n",
            "2        Green    Very Good    270                     22             56  \n",
            "3   Dark Green    Excellent    365                      4             70  \n",
            "4   Dark Green    Excellent    229                     11             64  \n",
            "\n",
            "[5 rows x 23 columns]\n"
          ]
        }
      ]
    },
    {
      "cell_type": "code",
      "source": [
        "# Encoding categorical variables \"Has Table Booking\" and \"Has Online Delivery\"\n",
        "df['Has Table Booking Encoded'] = df['Has Table booking'].map({'Yes': 1, 'No': 0})\n",
        "df['Has Online Delivery Encoded'] = df['Has Online delivery'].map({'Yes': 1, 'No': 0})\n",
        "\n",
        "# Displaying the modified DataFrame with encoded features\n",
        "print(df.head())\n"
      ],
      "metadata": {
        "colab": {
          "base_uri": "https://localhost:8080/"
        },
        "id": "PXxImEgcQ0Od",
        "outputId": "0a6da791-0553-45d2-fb35-ea005e3a50e9"
      },
      "execution_count": null,
      "outputs": [
        {
          "output_type": "stream",
          "name": "stdout",
          "text": [
            "   Restaurant ID         Restaurant Name  Country Code              City  \\\n",
            "0        6317637        Le Petit Souffle           162       Makati City   \n",
            "1        6304287        Izakaya Kikufuji           162       Makati City   \n",
            "2        6300002  Heat - Edsa Shangri-La           162  Mandaluyong City   \n",
            "3        6318506                    Ooma           162  Mandaluyong City   \n",
            "4        6314302             Sambo Kojin           162  Mandaluyong City   \n",
            "\n",
            "                                             Address  \\\n",
            "0  Third Floor, Century City Mall, Kalayaan Avenu...   \n",
            "1  Little Tokyo, 2277 Chino Roces Avenue, Legaspi...   \n",
            "2  Edsa Shangri-La, 1 Garden Way, Ortigas, Mandal...   \n",
            "3  Third Floor, Mega Fashion Hall, SM Megamall, O...   \n",
            "4  Third Floor, Mega Atrium, SM Megamall, Ortigas...   \n",
            "\n",
            "                                     Locality  \\\n",
            "0   Century City Mall, Poblacion, Makati City   \n",
            "1  Little Tokyo, Legaspi Village, Makati City   \n",
            "2  Edsa Shangri-La, Ortigas, Mandaluyong City   \n",
            "3      SM Megamall, Ortigas, Mandaluyong City   \n",
            "4      SM Megamall, Ortigas, Mandaluyong City   \n",
            "\n",
            "                                    Locality Verbose   Longitude   Latitude  \\\n",
            "0  Century City Mall, Poblacion, Makati City, Mak...  121.027535  14.565443   \n",
            "1  Little Tokyo, Legaspi Village, Makati City, Ma...  121.014101  14.553708   \n",
            "2  Edsa Shangri-La, Ortigas, Mandaluyong City, Ma...  121.056831  14.581404   \n",
            "3  SM Megamall, Ortigas, Mandaluyong City, Mandal...  121.056475  14.585318   \n",
            "4  SM Megamall, Ortigas, Mandaluyong City, Mandal...  121.057508  14.584450   \n",
            "\n",
            "                           Cuisines  ...  Switch to order menu Price range  \\\n",
            "0        French, Japanese, Desserts  ...                    No           3   \n",
            "1                          Japanese  ...                    No           3   \n",
            "2  Seafood, Asian, Filipino, Indian  ...                    No           4   \n",
            "3                   Japanese, Sushi  ...                    No           4   \n",
            "4                  Japanese, Korean  ...                    No           4   \n",
            "\n",
            "  Aggregate rating Rating color Rating text Votes  Restaurant Name Length  \\\n",
            "0              4.8   Dark Green   Excellent   314                      16   \n",
            "1              4.5   Dark Green   Excellent   591                      16   \n",
            "2              4.4        Green   Very Good   270                      22   \n",
            "3              4.9   Dark Green   Excellent   365                       4   \n",
            "4              4.8   Dark Green   Excellent   229                      11   \n",
            "\n",
            "   Address Length Has Table Booking Encoded Has Online Delivery Encoded  \n",
            "0              71                         1                           0  \n",
            "1              67                         1                           0  \n",
            "2              56                         1                           0  \n",
            "3              70                         0                           0  \n",
            "4              64                         1                           0  \n",
            "\n",
            "[5 rows x 25 columns]\n"
          ]
        }
      ]
    }
  ]
}